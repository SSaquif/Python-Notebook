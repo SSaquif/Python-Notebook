{
 "cells": [
  {
   "cell_type": "code",
   "execution_count": 2,
   "metadata": {},
   "outputs": [],
   "source": [
    "# Can do The foolowing but dont have to\n",
    "# from functools import reduce\n"
   ]
  },
  {
   "cell_type": "markdown",
   "metadata": {},
   "source": [
    "### reduce\n",
    "\n",
    "1. **Signature**: 2 required arguments, 1 optional argument (accumulator)\n",
    "   >reduce(function, iterable, accumulator)"
   ]
  },
  {
   "cell_type": "code",
   "execution_count": 10,
   "metadata": {},
   "outputs": [
    {
     "name": "stdout",
     "output_type": "stream",
     "text": [
      "adding list items:: 15\n",
      "adding list items with acc:: 40\n",
      "finding max in a list:: 5\n"
     ]
    }
   ],
   "source": [
    "# adding a list\n",
    "r1 = reduce(lambda x,y: x+y, [1,2,3,4,5])\n",
    "print('adding list items::',r1)\n",
    "r1 = reduce(lambda x,y: x+y, [1,2,3,4,5], 25)\n",
    "print('adding list items with acc::',r1)\n",
    "\n",
    "# finding max in a list\n",
    "r2 = reduce(lambda x,y: max(x,y), [1,2,3,4,5])\n",
    "print('finding max in a list::',r2)"
   ]
  },
  {
   "cell_type": "markdown",
   "metadata": {},
   "source": [
    "### total_ordering\n",
    "\n",
    "1. **Option 1:** We can use magin functions to reassign the values of ==, <, >, <=, >= operators. **We would have define each separately**\n",
    "\n",
    "2. **Option 2:** We can use total_ordering from functools instead and do a little less work. <br/> We need to provide __eq__ and 1 of **lt, le, gt, ge**. Rest will automatically be done\n",
    "\n",
    "3. [docs](https://docs.python.org/3/library/functools.html#functools.total_ordering)\n",
    "4. Big Disadvantage = Slower execution compared to me writing all the magic functions"
   ]
  },
  {
   "cell_type": "code",
   "execution_count": 18,
   "metadata": {},
   "outputs": [],
   "source": [
    "# need the import statement\n",
    "from functools import total_ordering\n",
    "\n",
    "@total_ordering\n",
    "class Car:\n",
    "    def __init__(self,model,mileage):\n",
    "        self.model = model\n",
    "        self.mileage = mileage\n",
    "    \n",
    "    def __eq__(self,other):\n",
    "        return self.mileage == other.mileage\n",
    "    \n",
    "    def __lt__(self,other):\n",
    "        return self.mileage < other.mileage"
   ]
  },
  {
   "cell_type": "code",
   "execution_count": 20,
   "metadata": {},
   "outputs": [
    {
     "data": {
      "text/plain": [
       "True"
      ]
     },
     "execution_count": 20,
     "metadata": {},
     "output_type": "execute_result"
    }
   ],
   "source": [
    "c1 = Car('Red Bull', 800)\n",
    "c2 = Car('Ferrari', 800)\n",
    "\n",
    "c1 <= c2"
   ]
  },
  {
   "cell_type": "markdown",
   "metadata": {},
   "source": [
    "## Resources\n",
    "\n",
    "1. [Video](https://www.youtube.com/watch?v=Jztj_yuFTlk)\n",
    "2. [functools doc](https://docs.python.org/3/library/functools.html)\n"
   ]
  }
 ],
 "metadata": {
  "kernelspec": {
   "display_name": "Python 3",
   "language": "python",
   "name": "python3"
  },
  "language_info": {
   "codemirror_mode": {
    "name": "ipython",
    "version": 3
   },
   "file_extension": ".py",
   "mimetype": "text/x-python",
   "name": "python",
   "nbconvert_exporter": "python",
   "pygments_lexer": "ipython3",
   "version": "3.8.3"
  }
 },
 "nbformat": 4,
 "nbformat_minor": 4
}
